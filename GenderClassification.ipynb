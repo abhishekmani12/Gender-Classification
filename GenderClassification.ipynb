{
  "nbformat": 4,
  "nbformat_minor": 0,
  "metadata": {
    "colab": {
      "name": "GenderClassification.ipynb",
      "provenance": [],
      "collapsed_sections": [],
      "mount_file_id": "1mOwxN-L8VGYgC76nttebAjISeIjQ3u__",
      "authorship_tag": "ABX9TyPteVBlBSkP3f+l01q7nVzB",
      "include_colab_link": true
    },
    "kernelspec": {
      "name": "python3",
      "display_name": "Python 3"
    },
    "language_info": {
      "name": "python"
    }
  },
  "cells": [
    {
      "cell_type": "markdown",
      "metadata": {
        "id": "view-in-github",
        "colab_type": "text"
      },
      "source": [
        "<a href=\"https://colab.research.google.com/github/abhishekmani12/Gender-Classification/blob/main/GenderClassification.ipynb\" target=\"_parent\"><img src=\"https://colab.research.google.com/assets/colab-badge.svg\" alt=\"Open In Colab\"/></a>"
      ]
    },
    {
      "cell_type": "code",
      "metadata": {
        "id": "jkCVtyg_GC95"
      },
      "source": [
        "import numpy as np\n",
        "import pandas as pd\n",
        "\n",
        "import matplotlib.pyplot as plt\n",
        "import seaborn as sns\n",
        "\n",
        "from tensorflow.keras.preprocessing.text import Tokenizer\n",
        "from tensorflow.keras.preprocessing.sequence import pad_sequences\n",
        "from sklearn.preprocessing import StandardScaler\n",
        "from sklearn.model_selection import train_test_split\n",
        "\n",
        "import tensorflow as tf\n",
        "\n",
        "from sklearn.metrics import confusion_matrix, classification_report"
      ],
      "execution_count": null,
      "outputs": []
    },
    {
      "cell_type": "code",
      "metadata": {
        "id": "5bmfl04FGOSt"
      },
      "source": [
        "df = pd.read_csv('/content/drive/MyDrive/Verzeo/Gender Classification/gender-classifier-DFE-791531.csv', encoding='latin-1')"
      ],
      "execution_count": null,
      "outputs": []
    },
    {
      "cell_type": "markdown",
      "metadata": {
        "id": "A7CSkEmfUQEE"
      },
      "source": [
        "**EDA**"
      ]
    },
    {
      "cell_type": "code",
      "metadata": {
        "id": "yV333oqFGOQ4",
        "colab": {
          "base_uri": "https://localhost:8080/"
        },
        "outputId": "d462d67a-9f84-4124-af78-212a8960c76b"
      },
      "source": [
        "df.info()"
      ],
      "execution_count": null,
      "outputs": [
        {
          "output_type": "stream",
          "text": [
            "<class 'pandas.core.frame.DataFrame'>\n",
            "RangeIndex: 20050 entries, 0 to 20049\n",
            "Data columns (total 26 columns):\n",
            " #   Column                 Non-Null Count  Dtype  \n",
            "---  ------                 --------------  -----  \n",
            " 0   _unit_id               20050 non-null  int64  \n",
            " 1   _golden                20050 non-null  bool   \n",
            " 2   _unit_state            20050 non-null  object \n",
            " 3   _trusted_judgments     20050 non-null  int64  \n",
            " 4   _last_judgment_at      20000 non-null  object \n",
            " 5   gender                 19953 non-null  object \n",
            " 6   gender:confidence      20024 non-null  float64\n",
            " 7   profile_yn             20050 non-null  object \n",
            " 8   profile_yn:confidence  20050 non-null  float64\n",
            " 9   created                20050 non-null  object \n",
            " 10  description            16306 non-null  object \n",
            " 11  fav_number             20050 non-null  int64  \n",
            " 12  gender_gold            50 non-null     object \n",
            " 13  link_color             20050 non-null  object \n",
            " 14  name                   20050 non-null  object \n",
            " 15  profile_yn_gold        50 non-null     object \n",
            " 16  profileimage           20050 non-null  object \n",
            " 17  retweet_count          20050 non-null  int64  \n",
            " 18  sidebar_color          20050 non-null  object \n",
            " 19  text                   20050 non-null  object \n",
            " 20  tweet_coord            159 non-null    object \n",
            " 21  tweet_count            20050 non-null  int64  \n",
            " 22  tweet_created          20050 non-null  object \n",
            " 23  tweet_id               20050 non-null  float64\n",
            " 24  tweet_location         12566 non-null  object \n",
            " 25  user_timezone          12252 non-null  object \n",
            "dtypes: bool(1), float64(3), int64(5), object(17)\n",
            "memory usage: 3.8+ MB\n"
          ],
          "name": "stdout"
        }
      ]
    },
    {
      "cell_type": "code",
      "metadata": {
        "id": "pahNbEtnGOPE",
        "colab": {
          "base_uri": "https://localhost:8080/"
        },
        "outputId": "f715c7e1-af61-431d-8231-4a4bc086e59c"
      },
      "source": [
        "df.isna().mean()"
      ],
      "execution_count": null,
      "outputs": [
        {
          "output_type": "execute_result",
          "data": {
            "text/plain": [
              "_unit_id                 0.000000\n",
              "_golden                  0.000000\n",
              "_unit_state              0.000000\n",
              "_trusted_judgments       0.000000\n",
              "_last_judgment_at        0.002494\n",
              "gender                   0.004838\n",
              "gender:confidence        0.001297\n",
              "profile_yn               0.000000\n",
              "profile_yn:confidence    0.000000\n",
              "created                  0.000000\n",
              "description              0.186733\n",
              "fav_number               0.000000\n",
              "gender_gold              0.997506\n",
              "link_color               0.000000\n",
              "name                     0.000000\n",
              "profile_yn_gold          0.997506\n",
              "profileimage             0.000000\n",
              "retweet_count            0.000000\n",
              "sidebar_color            0.000000\n",
              "text                     0.000000\n",
              "tweet_coord              0.992070\n",
              "tweet_count              0.000000\n",
              "tweet_created            0.000000\n",
              "tweet_id                 0.000000\n",
              "tweet_location           0.373267\n",
              "user_timezone            0.388928\n",
              "dtype: float64"
            ]
          },
          "metadata": {
            "tags": []
          },
          "execution_count": 5
        }
      ]
    },
    {
      "cell_type": "markdown",
      "metadata": {
        "id": "LRFi0K7eUKB7"
      },
      "source": [
        "**Tokenizer**"
      ]
    },
    {
      "cell_type": "code",
      "metadata": {
        "id": "8PdGiJLCGOM-"
      },
      "source": [
        "def get_sequences(texts, vocab_length):\n",
        "    tokenizer = Tokenizer(num_words=vocab_length)\n",
        "    tokenizer.fit_on_texts(texts)\n",
        "    \n",
        "    sequences = tokenizer.texts_to_sequences(texts)\n",
        "    \n",
        "    max_seq_length = np.max([len(sequence) for sequence in sequences])\n",
        "    \n",
        "    sequences = pad_sequences(sequences, maxlen=max_seq_length, padding='post')\n",
        "    \n",
        "    return sequences"
      ],
      "execution_count": null,
      "outputs": []
    },
    {
      "cell_type": "code",
      "metadata": {
        "id": "neuyFsvUGOK1"
      },
      "source": [
        "def hex_to_decimal(x):\n",
        "    try:\n",
        "        return np.int(x, 16)\n",
        "    except:\n",
        "        return 0\n",
        "\n",
        "def get_rgb(colors):\n",
        "    r = colors.apply(lambda x: hex_to_decimal(x[0:2]))\n",
        "    g = colors.apply(lambda x: hex_to_decimal(x[2:4]))\n",
        "    b = colors.apply(lambda x: hex_to_decimal(x[4:6]))\n",
        "    return r, g, b"
      ],
      "execution_count": null,
      "outputs": []
    },
    {
      "cell_type": "markdown",
      "metadata": {
        "id": "3UxcIohKUeOl"
      },
      "source": [
        "**Dropping columns and encoding missing values**"
      ]
    },
    {
      "cell_type": "code",
      "metadata": {
        "id": "ltNg64k7GOGK"
      },
      "source": [
        "def preprocess_inputs(df):\n",
        "    df = df.copy()\n",
        "    \n",
        "    \n",
        "    df = df.drop(['_unit_id', 'name', 'profileimage', 'tweet_id'], axis=1)\n",
        "    \n",
        "    \n",
        "    df['gender'] = df['gender'].replace('unknown', np.NaN)\n",
        "    \n",
        "    \n",
        "    gender_nas = df[df['gender'].isna()].index\n",
        "    df = df.drop(gender_nas, axis=0).reset_index(drop=True)\n",
        "    \n",
        "   \n",
        "    missing_cols = df.columns[df.isna().mean() > 0.3]\n",
        "    df = df.drop(missing_cols, axis=1)\n",
        "    \n",
        "    \n",
        "    judgment_nas = df[df['_last_judgment_at'].isna()].index\n",
        "    df = df.drop(judgment_nas, axis=0).reset_index(drop=True)\n",
        "    \n",
        "    \n",
        "    df['description'] = df['description'].fillna('')\n",
        "    \n",
        "    \n",
        "    for column in ['_last_judgment_at', 'created', 'tweet_created']:\n",
        "        df[column] = pd.to_datetime(df[column])\n",
        "    \n",
        "    df['judgment_day'] = df['_last_judgment_at'].apply(lambda x: x.day)\n",
        "    df['judgment_hour'] = df['_last_judgment_at'].apply(lambda x: x.hour)\n",
        "    \n",
        "    df['created_year'] = df['created'].apply(lambda x: x.year)\n",
        "    df['created_month'] = df['created'].apply(lambda x: x.month)\n",
        "    df['created_day'] = df['created'].apply(lambda x: x.day)\n",
        "    df['created_hour'] = df['created'].apply(lambda x: x.hour)\n",
        "    \n",
        "    df['tweet_hour'] = df['tweet_created'].apply(lambda x: x.hour)\n",
        "    \n",
        "    df = df.drop(['_last_judgment_at', 'created', 'tweet_created'], axis=1)\n",
        "    \n",
        "    \n",
        "    desc = get_sequences(df['description'], vocab_length=20000)\n",
        "    tweets = get_sequences(df['text'], vocab_length=20000)\n",
        "    \n",
        "    df = df.drop(['description', 'text'], axis=1)\n",
        "    \n",
        "   \n",
        "    df = df.drop(['_golden', '_unit_state', '_trusted_judgments', 'profile_yn'], axis=1)\n",
        "    \n",
        "    \n",
        "    df['link_red'], df['link_green'], df['link_blue'] = get_rgb(df['link_color'])\n",
        "    df['side_red'], df['side_green'], df['side_blue'] = get_rgb(df['sidebar_color'])\n",
        "    \n",
        "    df = df.drop(['link_color', 'sidebar_color'], axis=1)\n",
        "    \n",
        "    \n",
        "    label_mapping = {'female': 0, 'male': 1, 'brand': 2}\n",
        "    df['gender'] = df['gender'].replace(label_mapping)\n",
        "    \n",
        "   \n",
        "    y = df['gender'].copy()\n",
        "    X = df.drop('gender', axis=1).copy()\n",
        "    \n",
        "    \n",
        "    scaler = StandardScaler()\n",
        "    X = pd.DataFrame(scaler.fit_transform(X), columns=X.columns)\n",
        "    \n",
        "    return X, desc, tweets, y"
      ],
      "execution_count": null,
      "outputs": []
    },
    {
      "cell_type": "code",
      "metadata": {
        "id": "EN1stZwsIA22"
      },
      "source": [
        "X, desc, tweets, y = preprocess_inputs(data)"
      ],
      "execution_count": null,
      "outputs": []
    },
    {
      "cell_type": "code",
      "metadata": {
        "colab": {
          "base_uri": "https://localhost:8080/"
        },
        "id": "euYR0_02IDBd",
        "outputId": "1c4c8e7f-a345-4ec5-ff1c-c9a14a8b3882"
      },
      "source": [
        "{column: len(X[column].unique()) for column in X.columns}"
      ],
      "execution_count": null,
      "outputs": [
        {
          "output_type": "execute_result",
          "data": {
            "text/plain": [
              "{'created_day': 31,\n",
              " 'created_hour': 24,\n",
              " 'created_month': 12,\n",
              " 'created_year': 10,\n",
              " 'fav_number': 6551,\n",
              " 'gender:confidence': 873,\n",
              " 'judgment_day': 2,\n",
              " 'judgment_hour': 6,\n",
              " 'link_blue': 256,\n",
              " 'link_green': 245,\n",
              " 'link_red': 256,\n",
              " 'profile_yn:confidence': 219,\n",
              " 'retweet_count': 22,\n",
              " 'side_blue': 204,\n",
              " 'side_green': 215,\n",
              " 'side_red': 205,\n",
              " 'tweet_count': 13604,\n",
              " 'tweet_hour': 2}"
            ]
          },
          "metadata": {
            "tags": []
          },
          "execution_count": 11
        }
      ]
    },
    {
      "cell_type": "code",
      "metadata": {
        "id": "OtOEYclwIC_1"
      },
      "source": [
        "X_train, X_test, desc_train, desc_test, tweets_train, tweets_test, y_train, y_test = \\\n",
        "    train_test_split(X, desc, tweets, y, train_size=0.7, random_state=1)"
      ],
      "execution_count": null,
      "outputs": []
    },
    {
      "cell_type": "code",
      "metadata": {
        "colab": {
          "base_uri": "https://localhost:8080/"
        },
        "id": "vL7Bd6o7IC93",
        "outputId": "08f3a842-0bd1-45c5-b71c-0059e540b291"
      },
      "source": [
        "desc.shape"
      ],
      "execution_count": null,
      "outputs": [
        {
          "output_type": "execute_result",
          "data": {
            "text/plain": [
              "(18786, 62)"
            ]
          },
          "metadata": {
            "tags": []
          },
          "execution_count": 13
        }
      ]
    },
    {
      "cell_type": "code",
      "metadata": {
        "colab": {
          "base_uri": "https://localhost:8080/"
        },
        "id": "Onu0hOZ5IC7r",
        "outputId": "8c40c3fb-b621-474f-b05a-6e7b51ac369a"
      },
      "source": [
        "tweets.shape"
      ],
      "execution_count": null,
      "outputs": [
        {
          "output_type": "execute_result",
          "data": {
            "text/plain": [
              "(18786, 104)"
            ]
          },
          "metadata": {
            "tags": []
          },
          "execution_count": 14
        }
      ]
    },
    {
      "cell_type": "markdown",
      "metadata": {
        "id": "lU4Grl_LUuKj"
      },
      "source": [
        ""
      ]
    },
    {
      "cell_type": "markdown",
      "metadata": {
        "id": "wr1kFEHSU5fD"
      },
      "source": [
        "**Deep Recurrent Neural Network**"
      ]
    },
    {
      "cell_type": "code",
      "metadata": {
        "id": "pgN1l-fJJdUw"
      },
      "source": [
        "def build_model():\n",
        "\n",
        "    X_inputs = tf.keras.Input(shape=(X.shape[1],))\n",
        "    desc_inputs = tf.keras.Input(shape=(desc.shape[1],))\n",
        "    tweet_inputs = tf.keras.Input(shape=(tweets.shape[1],))\n",
        "\n",
        "    # X\n",
        "    X_dense1 = tf.keras.layers.Dense(256, activation='relu')(X_inputs)\n",
        "    X_dense2 = tf.keras.layers.Dense(256, activation='relu')(X_dense1)\n",
        "\n",
        "    # desc\n",
        "    desc_embedding = tf.keras.layers.Embedding(\n",
        "        input_dim=20000,\n",
        "        output_dim=256,\n",
        "        input_length=desc.shape[1]\n",
        "    )(desc_inputs)\n",
        "    desc_gru = tf.keras.layers.GRU(256, return_sequences=False)(desc_embedding)\n",
        "    desc_flatten = tf.keras.layers.Flatten()(desc_embedding)\n",
        "    desc_concat = tf.keras.layers.concatenate([desc_gru, desc_flatten])\n",
        "\n",
        "    # tweets\n",
        "    tweet_embedding = tf.keras.layers.Embedding(\n",
        "        input_dim=20000,\n",
        "        output_dim=256,\n",
        "        input_length=tweets.shape[1]\n",
        "    )(tweet_inputs)\n",
        "    tweet_gru = tf.keras.layers.GRU(256, return_sequences=False)(tweet_embedding)\n",
        "    tweet_flatten = tf.keras.layers.Flatten()(tweet_embedding)\n",
        "    tweet_concat = tf.keras.layers.concatenate([tweet_gru, tweet_flatten])\n",
        "\n",
        "    concat = tf.keras.layers.concatenate([X_dense2, desc_concat, tweet_concat])\n",
        "\n",
        "    outputs = tf.keras.layers.Dense(3, activation='softmax')(concat)\n",
        "\n",
        "\n",
        "    model = tf.keras.Model(inputs=[X_inputs, desc_inputs, tweet_inputs], outputs=outputs)\n",
        "\n",
        "    return model"
      ],
      "execution_count": null,
      "outputs": []
    },
    {
      "cell_type": "code",
      "metadata": {
        "colab": {
          "base_uri": "https://localhost:8080/",
          "height": 1000
        },
        "id": "DQmkyap9KjyX",
        "outputId": "aed9702e-5ef8-47db-d6cc-6bcbc98d24bd"
      },
      "source": [
        "model = build_model()\n",
        "\n",
        "print(model.summary())\n",
        "tf.keras.utils.plot_model(model)"
      ],
      "execution_count": null,
      "outputs": [
        {
          "output_type": "stream",
          "text": [
            "Model: \"model_1\"\n",
            "__________________________________________________________________________________________________\n",
            "Layer (type)                    Output Shape         Param #     Connected to                     \n",
            "==================================================================================================\n",
            "input_8 (InputLayer)            [(None, 62)]         0                                            \n",
            "__________________________________________________________________________________________________\n",
            "input_9 (InputLayer)            [(None, 104)]        0                                            \n",
            "__________________________________________________________________________________________________\n",
            "input_7 (InputLayer)            [(None, 18)]         0                                            \n",
            "__________________________________________________________________________________________________\n",
            "embedding_3 (Embedding)         (None, 62, 256)      5120000     input_8[0][0]                    \n",
            "__________________________________________________________________________________________________\n",
            "embedding_4 (Embedding)         (None, 104, 256)     5120000     input_9[0][0]                    \n",
            "__________________________________________________________________________________________________\n",
            "dense_3 (Dense)                 (None, 256)          4864        input_7[0][0]                    \n",
            "__________________________________________________________________________________________________\n",
            "gru_3 (GRU)                     (None, 256)          394752      embedding_3[0][0]                \n",
            "__________________________________________________________________________________________________\n",
            "flatten_2 (Flatten)             (None, 15872)        0           embedding_3[0][0]                \n",
            "__________________________________________________________________________________________________\n",
            "gru_4 (GRU)                     (None, 256)          394752      embedding_4[0][0]                \n",
            "__________________________________________________________________________________________________\n",
            "flatten_3 (Flatten)             (None, 26624)        0           embedding_4[0][0]                \n",
            "__________________________________________________________________________________________________\n",
            "dense_4 (Dense)                 (None, 256)          65792       dense_3[0][0]                    \n",
            "__________________________________________________________________________________________________\n",
            "concatenate_3 (Concatenate)     (None, 16128)        0           gru_3[0][0]                      \n",
            "                                                                 flatten_2[0][0]                  \n",
            "__________________________________________________________________________________________________\n",
            "concatenate_4 (Concatenate)     (None, 26880)        0           gru_4[0][0]                      \n",
            "                                                                 flatten_3[0][0]                  \n",
            "__________________________________________________________________________________________________\n",
            "concatenate_5 (Concatenate)     (None, 43264)        0           dense_4[0][0]                    \n",
            "                                                                 concatenate_3[0][0]              \n",
            "                                                                 concatenate_4[0][0]              \n",
            "__________________________________________________________________________________________________\n",
            "dense_5 (Dense)                 (None, 3)            129795      concatenate_5[0][0]              \n",
            "==================================================================================================\n",
            "Total params: 11,229,955\n",
            "Trainable params: 11,229,955\n",
            "Non-trainable params: 0\n",
            "__________________________________________________________________________________________________\n",
            "None\n"
          ],
          "name": "stdout"
        },
        {
          "output_type": "execute_result",
          "data": {
            "image/png": "[encoded data removed]",
            "text/plain": [
              "<IPython.core.display.Image object>"
            ]
          },
          "metadata": {
            "tags": []
          },
          "execution_count": 30
        }
      ]
    },
    {
      "cell_type": "markdown",
      "metadata": {
        "id": "USrY-E6RVKId"
      },
      "source": [
        "**Training**"
      ]
    },
    {
      "cell_type": "code",
      "metadata": {
        "colab": {
          "base_uri": "https://localhost:8080/"
        },
        "id": "d3Zr2s4iKtPT",
        "outputId": "b9717e8e-58e3-4af5-d283-26c9ecf58cd4"
      },
      "source": [
        "model.compile(\n",
        "    optimizer='adam',\n",
        "    loss='sparse_categorical_crossentropy',\n",
        "    metrics=['accuracy']\n",
        ")\n",
        "\n",
        "batch_size = 32\n",
        "epochs = 3\n",
        "\n",
        "history = model.fit(\n",
        "    [X_train, desc_train, tweets_train],\n",
        "    y_train,\n",
        "    validation_split=0.2,\n",
        "    batch_size=batch_size,\n",
        "    epochs=epochs,\n",
        "    callbacks=[\n",
        "        tf.keras.callbacks.ModelCheckpoint('./model.h5', save_best_only=True, save_weights_only=True),\n",
        "        tf.keras.callbacks.ReduceLROnPlateau()\n",
        "    ]\n",
        ")"
      ],
      "execution_count": null,
      "outputs": [
        {
          "output_type": "stream",
          "text": [
            "Epoch 1/3\n",
            "329/329 [==============================] - 252s 755ms/step - loss: 0.8584 - accuracy: 0.5782 - val_loss: 0.7606 - val_accuracy: 0.6483\n",
            "Epoch 2/3\n",
            "329/329 [==============================] - 242s 735ms/step - loss: 0.3615 - accuracy: 0.8831 - val_loss: 0.7948 - val_accuracy: 0.6517\n",
            "Epoch 3/3\n",
            "329/329 [==============================] - 244s 742ms/step - loss: 0.0949 - accuracy: 0.9793 - val_loss: 0.8568 - val_accuracy: 0.6422\n"
          ],
          "name": "stdout"
        }
      ]
    },
    {
      "cell_type": "code",
      "metadata": {
        "id": "ddYDBFS-No67"
      },
      "source": [
        "model.load_weights('./model.h5')"
      ],
      "execution_count": null,
      "outputs": []
    },
    {
      "cell_type": "markdown",
      "metadata": {
        "id": "eR8j8y4oVRer"
      },
      "source": [
        "Accuracy\n"
      ]
    },
    {
      "cell_type": "code",
      "metadata": {
        "colab": {
          "base_uri": "https://localhost:8080/"
        },
        "id": "iREbnPOmNo4-",
        "outputId": "32fc3fd3-9e3e-40fe-b94b-ad6070360e2f"
      },
      "source": [
        "results = model.evaluate([X_test, desc_test, tweets_test], y_test, verbose=0)\n",
        "print(\"Model Accuracy: {:.2f}%\".format(results[1] * 100))"
      ],
      "execution_count": null,
      "outputs": [
        {
          "output_type": "stream",
          "text": [
            "Model Accuracy: 64.99%\n"
          ],
          "name": "stdout"
        }
      ]
    },
    {
      "cell_type": "code",
      "metadata": {
        "id": "FxuMo4O0No25"
      },
      "source": [
        "y_true = np.array(y_test)\n",
        "\n",
        "y_pred = model.predict([X_test, desc_test, tweets_test])\n",
        "y_pred = map(lambda x: np.argmax(x), y_pred)\n",
        "y_pred = np.array(list(y_pred))"
      ],
      "execution_count": null,
      "outputs": []
    },
    {
      "cell_type": "code",
      "metadata": {
        "id": "TYdsYHhZNo0Y"
      },
      "source": [
        "cm = confusion_matrix(y_true, y_pred)\n",
        "clr = classification_report(y_true, y_pred, target_names=['Female', 'Male', 'Brand'])"
      ],
      "execution_count": null,
      "outputs": []
    },
    {
      "cell_type": "code",
      "metadata": {
        "colab": {
          "base_uri": "https://localhost:8080/"
        },
        "id": "YDvLt4d_OMQr",
        "outputId": "06e00160-e52d-47ba-bd25-8a8b3208c2b3"
      },
      "source": [
        "print(\"Classification Report:\\n\\n\", clr)"
      ],
      "execution_count": null,
      "outputs": [
        {
          "output_type": "stream",
          "text": [
            "Classification Report:\n",
            "\n",
            "               precision    recall  f1-score   support\n",
            "\n",
            "      Female       0.58      0.77      0.66      2004\n",
            "        Male       0.59      0.45      0.51      1779\n",
            "       Brand       0.81      0.71      0.76      1853\n",
            "\n",
            "    accuracy                           0.65      5636\n",
            "   macro avg       0.66      0.64      0.64      5636\n",
            "weighted avg       0.66      0.65      0.65      5636\n",
            "\n"
          ],
          "name": "stdout"
        }
      ]
    }
  ]
}